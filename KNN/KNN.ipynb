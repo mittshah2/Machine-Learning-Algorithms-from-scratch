{
 "cells": [
  {
   "cell_type": "code",
   "execution_count": 1,
   "metadata": {},
   "outputs": [],
   "source": [
    "from sklearn.model_selection import train_test_split\n",
    "from sklearn.neighbors import KNeighborsClassifier\n",
    "import numpy as np\n",
    "from sklearn.datasets import load_iris"
   ]
  },
  {
   "cell_type": "code",
   "execution_count": 2,
   "metadata": {},
   "outputs": [],
   "source": [
    "iris=load_iris()\n",
    "\n",
    "x_train, x_test, y_train, y_test = train_test_split(iris.data, iris.target, random_state = 3,test_size=0.1)"
   ]
  },
  {
   "cell_type": "code",
   "execution_count": 3,
   "metadata": {},
   "outputs": [],
   "source": [
    "from sklearn.preprocessing import MinMaxScaler\n",
    "\n",
    "scaler=MinMaxScaler()\n",
    "\n",
    "x_train_scaler=scaler.fit_transform(x_train)\n",
    "x_test_scaler=scaler.transform(x_test)"
   ]
  },
  {
   "cell_type": "code",
   "execution_count": 4,
   "metadata": {},
   "outputs": [
    {
     "name": "stdout",
     "output_type": "stream",
     "text": [
      "The accuracy is 100.0 %\n"
     ]
    }
   ],
   "source": [
    "knn=KNeighborsClassifier(n_neighbors=5)\n",
    "knn.fit(x_train_scaler,y_train)\n",
    "print('The accuracy is',knn.score(x_test_scaler,y_test)*100,'%')"
   ]
  },
  {
   "cell_type": "code",
   "execution_count": 5,
   "metadata": {},
   "outputs": [],
   "source": [
    "def cos_sim(x1,x2):\n",
    "    return np.dot(x1,x2)/((np.linalg.norm(x1))*((np.linalg.norm(x2))))"
   ]
  },
  {
   "cell_type": "code",
   "execution_count": 6,
   "metadata": {},
   "outputs": [],
   "source": [
    "def predict(x_train,y_train,x_test,k):\n",
    "    y=[]\n",
    "    for i in x_test:\n",
    "        dist=[]\n",
    "        for j,val in enumerate(x_train):\n",
    "            dist.append((cos_sim(i,val),y_train[j]))\n",
    "        dist=sorted(dist,key=lambda a: a[0],reverse=True)\n",
    "        dist=dist[:k]\n",
    "       \n",
    "        freq={}\n",
    "       \n",
    "        for i in dist:\n",
    "            if i[1] in freq:\n",
    "                freq[i[1]]=freq[i[1]]+1\n",
    "            else:\n",
    "                freq[i[1]]=1\n",
    "        freq=sorted(freq.items(),key=lambda k:k[1])\n",
    "        \n",
    "        val=freq[0][0]\n",
    "        \n",
    "        y.append(val)\n",
    "    return y\n",
    "    "
   ]
  },
  {
   "cell_type": "code",
   "execution_count": 10,
   "metadata": {},
   "outputs": [],
   "source": [
    "y_pred3=predict(x_train,y_train,x_test,3)\n",
    "y_pred5=predict(x_train,y_train,x_test,5)\n",
    "y_pred7=predict(x_train,y_train,x_test,7)\n",
    "y_pred9=predict(x_train,y_train,x_test,9)"
   ]
  },
  {
   "cell_type": "code",
   "execution_count": 11,
   "metadata": {},
   "outputs": [
    {
     "name": "stdout",
     "output_type": "stream",
     "text": [
      "The accuracy for k=3 93.33333333333333\n",
      "The accuracy for k=5 93.33333333333333\n",
      "The accuracy for k=7 93.33333333333333\n",
      "The accuracy for k=9 93.33333333333333\n"
     ]
    }
   ],
   "source": [
    "print('The accuracy for k=3',100*(np.sum(np.where(y_pred3==y_test,1,0))/len(y_test)))\n",
    "print('The accuracy for k=5',100*(np.sum(np.where(y_pred5==y_test,1,0))/len(y_test)))\n",
    "print('The accuracy for k=7',100*(np.sum(np.where(y_pred7==y_test,1,0))/len(y_test)))\n",
    "print('The accuracy for k=9',100*(np.sum(np.where(y_pred9==y_test,1,0))/len(y_test)))"
   ]
  },
  {
   "cell_type": "code",
   "execution_count": 9,
   "metadata": {},
   "outputs": [
    {
     "data": {
      "text/plain": [
       "<matplotlib.axes._subplots.AxesSubplot at 0x22894640208>"
      ]
     },
     "execution_count": 9,
     "metadata": {},
     "output_type": "execute_result"
    },
    {
     "data": {
      "image/png": "[encoded data removed]",
      "text/plain": [
       "<Figure size 432x288 with 1 Axes>"
      ]
     },
     "metadata": {
      "needs_background": "light"
     },
     "output_type": "display_data"
    }
   ],
   "source": [
    "import seaborn as sns\n",
    "sns.scatterplot(x_train[:,0],x_train[:,1],hue=y_train)"
   ]
  }
 ],
 "metadata": {
  "kernelspec": {
   "display_name": "Python 3",
   "language": "python",
   "name": "python3"
  },
  "language_info": {
   "codemirror_mode": {
    "name": "ipython",
    "version": 3
   },
   "file_extension": ".py",
   "mimetype": "text/x-python",
   "name": "python",
   "nbconvert_exporter": "python",
   "pygments_lexer": "ipython3",
   "version": "3.7.7"
  }
 },
 "nbformat": 4,
 "nbformat_minor": 4
}
