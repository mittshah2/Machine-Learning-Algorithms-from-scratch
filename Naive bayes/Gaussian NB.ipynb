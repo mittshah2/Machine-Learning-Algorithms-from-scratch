{
 "cells": [
  {
   "cell_type": "code",
   "execution_count": 15,
   "metadata": {},
   "outputs": [],
   "source": [
    "from sklearn.model_selection import train_test_split\n",
    "from sklearn.naive_bayes import GaussianNB\n",
    "import numpy as np\n",
    "from sklearn.datasets import load_iris\n",
    "import pandas as pd"
   ]
  },
  {
   "cell_type": "code",
   "execution_count": 12,
   "metadata": {},
   "outputs": [],
   "source": [
    "iris=load_iris()\n",
    "\n",
    "x_train, x_test, y_train, y_test = train_test_split(iris.data, iris.target, random_state = 3,test_size=0.25)"
   ]
  },
  {
   "cell_type": "code",
   "execution_count": 13,
   "metadata": {},
   "outputs": [],
   "source": [
    "from sklearn.preprocessing import MinMaxScaler\n",
    "\n",
    "scaler=MinMaxScaler()\n",
    "\n",
    "x_train=scaler.fit_transform(x_train)\n",
    "x_test=scaler.transform(x_test)"
   ]
  },
  {
   "cell_type": "code",
   "execution_count": 14,
   "metadata": {},
   "outputs": [
    {
     "data": {
      "text/plain": [
       "0.9736842105263158"
      ]
     },
     "execution_count": 14,
     "metadata": {},
     "output_type": "execute_result"
    }
   ],
   "source": [
    "clf=GaussianNB()\n",
    "clf.fit(x_train,y_train)\n",
    "clf.score(x_test,y_test)"
   ]
  },
  {
   "cell_type": "code",
   "execution_count": 81,
   "metadata": {},
   "outputs": [],
   "source": [
    "def predict(x_train,y_train,x_test):\n",
    "    df=pd.DataFrame(x_train)\n",
    "    df['label']=y_train\n",
    "    mean=df.groupby('label').mean()\n",
    "    std=df.groupby('label').std()\n",
    "    \n",
    "    p0=len(np.where(y_train==0)[0])/len(y_train)\n",
    "    p1=len(np.where(y_train==1)[0])/len(y_train)\n",
    "    p2=len(np.where(y_train==2)[0])/len(y_train)\n",
    "    \n",
    "    y=[]\n",
    "    s0=std.iloc[0,:]**2\n",
    "    m0=mean.iloc[0,:]\n",
    "    s1=std.iloc[1,:]**2\n",
    "    m1=mean.iloc[1,:]\n",
    "    s2=std.iloc[2,:]**2\n",
    "    m2=mean.iloc[2,:]\n",
    "    \n",
    "    t0=np.array(1/(np.sqrt(2*np.pi*s0)))\n",
    "    t1=np.array(1/(np.sqrt(2*np.pi*s1)))\n",
    "    t2=np.array(1/(np.sqrt(2*np.pi*s2)))\n",
    "    \n",
    "    \n",
    "    for row in x_test:\n",
    "       \n",
    "        po0=np.prod(t0*(np.exp(-1*(((row-m0)**2)/(2*s0)))))*p0\n",
    "        po1=np.prod(t1*(np.exp(-1*(((row-m1)**2)/(2*s1)))))*p1\n",
    "        po2=np.prod(t2*(np.exp(-1*(((row-m2)**2)/(2*s2)))))*p2\n",
    "        \n",
    "        y.append(np.argmax(np.array([po0,po1,po2])))\n",
    "\n",
    "        \n",
    "        \n",
    "        \n",
    "        \n",
    "    return np.array(y)"
   ]
  },
  {
   "cell_type": "code",
   "execution_count": 82,
   "metadata": {},
   "outputs": [
    {
     "data": {
      "text/plain": [
       "array([0, 0, 0, 0, 0, 2, 1, 0, 2, 1, 1, 0, 1, 1, 2, 0, 1, 2, 2, 0, 2, 2,\n",
       "       2, 1, 0, 2, 2, 1, 1, 1, 0, 0, 2, 1, 0, 0, 2, 0], dtype=int64)"
      ]
     },
     "execution_count": 82,
     "metadata": {},
     "output_type": "execute_result"
    }
   ],
   "source": [
    "predict(x_train,y_train,x_test)"
   ]
  },
  {
   "cell_type": "code",
   "execution_count": 59,
   "metadata": {},
   "outputs": [
    {
     "data": {
      "text/plain": [
       "array([0, 0, 0, 0, 0, 2, 1, 0, 2, 1, 1, 0, 1, 1, 2, 0, 1, 2, 2, 0, 2, 2,\n",
       "       2, 1, 0, 2, 2, 1, 1, 1, 0, 0, 2, 1, 0, 0, 1, 0])"
      ]
     },
     "execution_count": 59,
     "metadata": {},
     "output_type": "execute_result"
    }
   ],
   "source": [
    "y_test"
   ]
  },
  {
   "cell_type": "code",
   "execution_count": 79,
   "metadata": {},
   "outputs": [
    {
     "data": {
      "text/plain": [
       "97.36842105263158"
      ]
     },
     "execution_count": 79,
     "metadata": {},
     "output_type": "execute_result"
    }
   ],
   "source": [
    "(np.sum(np.where(a==y_test,1,0))/(len(x_test)))*100"
   ]
  }
 ],
 "metadata": {
  "kernelspec": {
   "display_name": "Python 3",
   "language": "python",
   "name": "python3"
  },
  "language_info": {
   "codemirror_mode": {
    "name": "ipython",
    "version": 3
   },
   "file_extension": ".py",
   "mimetype": "text/x-python",
   "name": "python",
   "nbconvert_exporter": "python",
   "pygments_lexer": "ipython3",
   "version": "3.7.7"
  }
 },
 "nbformat": 4,
 "nbformat_minor": 4
}
