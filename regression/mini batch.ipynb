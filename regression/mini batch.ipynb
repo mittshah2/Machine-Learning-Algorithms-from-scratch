{
 "cells": [
  {
   "cell_type": "code",
   "execution_count": 1,
   "metadata": {},
   "outputs": [],
   "source": [
    "import numpy as np\n",
    "import matplotlib.pyplot as plt\n",
    "import pandas as pd\n",
    "import os\n",
    "from sklearn.datasets import load_boston\n",
    "from sklearn.metrics import mean_absolute_error\n",
    "from sklearn.preprocessing import StandardScaler"
   ]
  },
  {
   "cell_type": "code",
   "execution_count": 2,
   "metadata": {},
   "outputs": [],
   "source": [
    "x,y=load_boston(return_X_y=True)"
   ]
  },
  {
   "cell_type": "code",
   "execution_count": 3,
   "metadata": {},
   "outputs": [],
   "source": [
    "x_train=np.ones((len(x[:400]),x.shape[1]+1))\n",
    "x_train[:400,1:]=x[:400,:]\n",
    "y_train=y[:400]"
   ]
  },
  {
   "cell_type": "code",
   "execution_count": 4,
   "metadata": {},
   "outputs": [],
   "source": [
    "x_test=np.ones((len(x[400:]),x.shape[1]+1))\n",
    "x_test[:,1:]=x[400:,:]\n",
    "y_test=y[400:]"
   ]
  },
  {
   "cell_type": "code",
   "execution_count": 5,
   "metadata": {},
   "outputs": [],
   "source": [
    "# sc=StandardScaler()\n",
    "# x_train=sc.fit_transform(x_train)\n",
    "# x_test=sc.fit_transform(x_test)"
   ]
  },
  {
   "cell_type": "code",
   "execution_count": 6,
   "metadata": {},
   "outputs": [],
   "source": [
    "epochs=20\n",
    "lr=1e-7\n",
    "m=len(x_train)\n",
    "m_test=len(x_test)\n",
    "bs=10\n",
    "mbs=5"
   ]
  },
  {
   "cell_type": "code",
   "execution_count": 7,
   "metadata": {},
   "outputs": [],
   "source": [
    "los=[]\n",
    "los_test=[]\n",
    "theta=np.zeros((x_train.shape[1],))\n",
    "\n",
    "for i in range(epochs):\n",
    "    \n",
    "    y_pred=(np.dot(x_train,theta))\n",
    "    y_pred_test=np.dot(x_test,theta)\n",
    "    loss=((y_train-y_pred)**2)/(2*m)\n",
    "    loss_test=((y_test-y_pred_test)**2)/(2*m_test)\n",
    "    los.append(np.sum(loss))\n",
    "    los_test.append(np.sum(loss_test))\n",
    "    \n",
    "    for k in range(0,len(x_train),bs):\n",
    "        \n",
    "        y_pred=(np.dot(x_train[k+3:k+3+mbs,:],theta))\n",
    "\n",
    "        n=x_train.shape[1]\n",
    "        temp = np.zeros(theta.shape)\n",
    "\n",
    "        for j in range(n):\n",
    "            temp[j]=theta[j]-(lr/mbs)*np.sum((np.dot(y_pred-y_train[k+3:k+3+mbs],x_train[k+3:k+3+mbs,j])))\n",
    "        theta[:]=temp[:]"
   ]
  },
  {
   "cell_type": "code",
   "execution_count": 8,
   "metadata": {},
   "outputs": [],
   "source": [
    "y_pred=np.dot(x_train,theta)\n",
    "y_pred_test=np.dot(x_test,theta)"
   ]
  },
  {
   "cell_type": "code",
   "execution_count": 9,
   "metadata": {},
   "outputs": [
    {
     "data": {
      "text/plain": [
       "4.42"
      ]
     },
     "execution_count": 9,
     "metadata": {},
     "output_type": "execute_result"
    }
   ],
   "source": [
    "round(mean_absolute_error(y_test,y_pred_test),2)"
   ]
  },
  {
   "cell_type": "code",
   "execution_count": 10,
   "metadata": {},
   "outputs": [
    {
     "data": {
      "text/plain": [
       "[<matplotlib.lines.Line2D at 0x1889d8eee88>]"
      ]
     },
     "execution_count": 10,
     "metadata": {},
     "output_type": "execute_result"
    },
    {
     "data": {
      "image/png": "[encoded data removed]",
      "text/plain": [
       "<Figure size 432x288 with 1 Axes>"
      ]
     },
     "metadata": {
      "needs_background": "light"
     },
     "output_type": "display_data"
    }
   ],
   "source": [
    "plt.title('Training Loss')\n",
    "plt.plot(range(epochs),los)"
   ]
  },
  {
   "cell_type": "code",
   "execution_count": 11,
   "metadata": {},
   "outputs": [
    {
     "data": {
      "text/plain": [
       "[<matplotlib.lines.Line2D at 0x1889f9403c8>]"
      ]
     },
     "execution_count": 11,
     "metadata": {},
     "output_type": "execute_result"
    },
    {
     "data": {
      "image/png": "[encoded data removed]",
      "text/plain": [
       "<Figure size 432x288 with 1 Axes>"
      ]
     },
     "metadata": {
      "needs_background": "light"
     },
     "output_type": "display_data"
    }
   ],
   "source": [
    "plt.title('Testing Loss')\n",
    "plt.plot(range(epochs),los_test)"
   ]
  }
 ],
 "metadata": {
  "kernelspec": {
   "display_name": "Python 3",
   "language": "python",
   "name": "python3"
  },
  "language_info": {
   "codemirror_mode": {
    "name": "ipython",
    "version": 3
   },
   "file_extension": ".py",
   "mimetype": "text/x-python",
   "name": "python",
   "nbconvert_exporter": "python",
   "pygments_lexer": "ipython3",
   "version": "3.7.7"
  }
 },
 "nbformat": 4,
 "nbformat_minor": 4
}
